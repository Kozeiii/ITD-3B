{
 "cells": [
  {
   "cell_type": "markdown",
   "id": "55628386-1984-44fd-b2ce-56fbf1a538c5",
   "metadata": {},
   "source": [
    "<H1>UK ROAD ACCIDENT DATA ANALYSYS</H1>\n",
    "<h2>INCLUSIVE YEAR 2019-2022</h2>\n",
    "<h3>King Jannhel N. Driz</h3>"
   ]
  },
  {
   "cell_type": "code",
   "execution_count": 1,
   "id": "2b9a7730-aa68-479e-851b-689e57375e86",
   "metadata": {},
   "outputs": [],
   "source": [
    "import pandas as pd\n",
    "import numpy as np\n",
    "import seaborn as sns\n",
    "import matplotlib.pyplot as plt\n",
    "from scipy.stats import f_oneway\n",
    "import warnings\n",
    "warnings.filterwarnings('ignore')"
   ]
  },
  {
   "cell_type": "code",
   "execution_count": 2,
   "id": "d1ce6f11-8666-41fc-812e-2145bf916adc",
   "metadata": {},
   "outputs": [],
   "source": [
    "accident = pd.read_csv('accident_data.csv')"
   ]
  },
  {
   "cell_type": "code",
   "execution_count": 3,
   "id": "e4c1ed9c-8588-410e-8c44-10e55113df04",
   "metadata": {},
   "outputs": [
    {
     "data": {
      "text/plain": [
       "Index                          0\n",
       "Accident_Severity              0\n",
       "Accident Date                  0\n",
       "Latitude                      25\n",
       "Light_Conditions               0\n",
       "District Area                  0\n",
       "Longitude                     26\n",
       "Number_of_Casualties           0\n",
       "Number_of_Vehicles             0\n",
       "Road_Surface_Conditions      726\n",
       "Road_Type                   4520\n",
       "Urban_or_Rural_Area           15\n",
       "Weather_Conditions         14128\n",
       "Vehicle_Type                   0\n",
       "dtype: int64"
      ]
     },
     "execution_count": 3,
     "metadata": {},
     "output_type": "execute_result"
    }
   ],
   "source": [
    "accident.isnull().sum()"
   ]
  },
  {
   "cell_type": "code",
   "execution_count": 4,
   "id": "60101358-3257-4922-89f1-85ce1b00f157",
   "metadata": {},
   "outputs": [],
   "source": [
    "accident['Latitude'] = accident['Latitude'].fillna(accident['Latitude'].mode()[0])\n",
    "accident['Longitude'] = accident['Longitude'].fillna(accident['Longitude'].mode()[0])\n",
    "accident['Road_Surface_Conditions'] = accident['Road_Surface_Conditions'].fillna('unknown condition')\n",
    "accident['Road_Type'] = accident['Road_Type'].fillna(accident['Road_Type'].mode()[0])\n",
    "accident['Urban_or_Rural_Area'] = accident['Urban_or_Rural_Area'].fillna(accident['Urban_or_Rural_Area'].mode()[0])\n",
    "accident['Weather_Conditions'] = accident['Weather_Conditions'].fillna('unknown weather')"
   ]
  },
  {
   "cell_type": "code",
   "execution_count": 5,
   "id": "02f61629-d7b3-451d-aa64-e95567665b7a",
   "metadata": {},
   "outputs": [
    {
     "data": {
      "text/plain": [
       "Index                      0\n",
       "Accident_Severity          0\n",
       "Accident Date              0\n",
       "Latitude                   0\n",
       "Light_Conditions           0\n",
       "District Area              0\n",
       "Longitude                  0\n",
       "Number_of_Casualties       0\n",
       "Number_of_Vehicles         0\n",
       "Road_Surface_Conditions    0\n",
       "Road_Type                  0\n",
       "Urban_or_Rural_Area        0\n",
       "Weather_Conditions         0\n",
       "Vehicle_Type               0\n",
       "dtype: int64"
      ]
     },
     "execution_count": 5,
     "metadata": {},
     "output_type": "execute_result"
    }
   ],
   "source": [
    "accident.isnull().sum()"
   ]
  },
  {
   "cell_type": "code",
   "execution_count": 6,
   "id": "95bd9bdb-d6d2-4e6b-97f5-ef8f5fd2420b",
   "metadata": {},
   "outputs": [
    {
     "data": {
      "text/plain": [
       "Index                       object\n",
       "Accident_Severity           object\n",
       "Accident Date               object\n",
       "Latitude                   float64\n",
       "Light_Conditions            object\n",
       "District Area               object\n",
       "Longitude                  float64\n",
       "Number_of_Casualties         int64\n",
       "Number_of_Vehicles           int64\n",
       "Road_Surface_Conditions     object\n",
       "Road_Type                   object\n",
       "Urban_or_Rural_Area         object\n",
       "Weather_Conditions          object\n",
       "Vehicle_Type                object\n",
       "dtype: object"
      ]
     },
     "execution_count": 6,
     "metadata": {},
     "output_type": "execute_result"
    }
   ],
   "source": [
    "accident.dtypes"
   ]
  },
  {
   "cell_type": "code",
   "execution_count": 7,
   "id": "295cd3b3-87d8-4ebc-bc93-d7ed4a368194",
   "metadata": {},
   "outputs": [],
   "source": [
    "accident['Accident_Severity'] = accident['Accident_Severity'].astype('category')\n",
    "accident['Light_Conditions'] = accident['Light_Conditions'].astype('category')\n",
    "accident['Latitude'] = accident['Latitude'].astype('category')\n",
    "accident['District Area'] = accident['District Area'].astype('category')\n",
    "accident['Longitude'] = accident['Longitude'].astype('category')\n",
    "accident['Road_Surface_Conditions'] = accident['Road_Surface_Conditions'].astype('category')\n",
    "accident['Road_Type'] = accident['Road_Type'].astype('category')\n",
    "accident['Urban_or_Rural_Area'] = accident['Urban_or_Rural_Area'].astype('category')\n",
    "accident['Weather_Conditions'] = accident['Weather_Conditions'].astype('category')\n",
    "accident['Vehicle_Type'] = accident['Vehicle_Type'].astype('category')"
   ]
  },
  {
   "cell_type": "code",
   "execution_count": 8,
   "id": "67fa7db8-da90-4d0f-99fe-2006ae7471f6",
   "metadata": {},
   "outputs": [
    {
     "data": {
      "text/plain": [
       "Index                      0\n",
       "Accident_Severity          0\n",
       "Accident Date              0\n",
       "Latitude                   0\n",
       "Light_Conditions           0\n",
       "District Area              0\n",
       "Longitude                  0\n",
       "Number_of_Casualties       0\n",
       "Number_of_Vehicles         0\n",
       "Road_Surface_Conditions    0\n",
       "Road_Type                  0\n",
       "Urban_or_Rural_Area        0\n",
       "Weather_Conditions         0\n",
       "Vehicle_Type               0\n",
       "dtype: int64"
      ]
     },
     "execution_count": 8,
     "metadata": {},
     "output_type": "execute_result"
    }
   ],
   "source": [
    "accident.isnull().sum()"
   ]
  },
  {
   "cell_type": "code",
   "execution_count": 9,
   "id": "0455df5e-0c45-4da2-832b-499bce37a1c2",
   "metadata": {},
   "outputs": [],
   "source": [
    "accident['Accident Date'] = accident['Accident Date'].astype('str')\n",
    "accident['Accident Date'] = accident['Accident Date'].str.strip()\n",
    "accident['Accident Date'] = accident['Accident Date'].str.replace('/','-')"
   ]
  },
  {
   "cell_type": "code",
   "execution_count": 10,
   "id": "b02cff32-a3cd-4a9a-ae95-b480ad879863",
   "metadata": {},
   "outputs": [],
   "source": [
    "accident['Accident Date'] = pd.to_datetime(accident['Accident Date'],dayfirst=True,errors = 'coerce')"
   ]
  },
  {
   "cell_type": "code",
   "execution_count": 11,
   "id": "7c524141-5a26-40af-b5ab-ce0b628f6df1",
   "metadata": {},
   "outputs": [
    {
     "data": {
      "text/plain": [
       "Index                      0\n",
       "Accident_Severity          0\n",
       "Accident Date              0\n",
       "Latitude                   0\n",
       "Light_Conditions           0\n",
       "District Area              0\n",
       "Longitude                  0\n",
       "Number_of_Casualties       0\n",
       "Number_of_Vehicles         0\n",
       "Road_Surface_Conditions    0\n",
       "Road_Type                  0\n",
       "Urban_or_Rural_Area        0\n",
       "Weather_Conditions         0\n",
       "Vehicle_Type               0\n",
       "dtype: int64"
      ]
     },
     "execution_count": 11,
     "metadata": {},
     "output_type": "execute_result"
    }
   ],
   "source": [
    "accident.isnull().sum()"
   ]
  },
  {
   "cell_type": "code",
   "execution_count": 12,
   "id": "9e0027c9-d4ad-49d8-ad5b-77ff038422c0",
   "metadata": {},
   "outputs": [],
   "source": [
    "accident['Year'] = accident['Accident Date'].dt.year\n",
    "accident['Month'] = accident['Accident Date'].dt.month\n",
    "accident['DayofWeek'] = accident['Accident Date'].dt.dayofweek\n",
    "accident['Day'] = accident['Accident Date'].dt.day"
   ]
  },
  {
   "cell_type": "code",
   "execution_count": 13,
   "id": "7fd6edee-5a64-4a09-a6fd-550bab91ee4b",
   "metadata": {},
   "outputs": [
    {
     "data": {
      "text/plain": [
       "Index                      0\n",
       "Accident_Severity          0\n",
       "Accident Date              0\n",
       "Latitude                   0\n",
       "Light_Conditions           0\n",
       "District Area              0\n",
       "Longitude                  0\n",
       "Number_of_Casualties       0\n",
       "Number_of_Vehicles         0\n",
       "Road_Surface_Conditions    0\n",
       "Road_Type                  0\n",
       "Urban_or_Rural_Area        0\n",
       "Weather_Conditions         0\n",
       "Vehicle_Type               0\n",
       "Year                       0\n",
       "Month                      0\n",
       "DayofWeek                  0\n",
       "Day                        0\n",
       "dtype: int64"
      ]
     },
     "execution_count": 13,
     "metadata": {},
     "output_type": "execute_result"
    }
   ],
   "source": [
    "accident.isnull().sum()"
   ]
  },
  {
   "cell_type": "code",
   "execution_count": 14,
   "id": "4bacc102-7d64-4dac-afaa-64e450428d2c",
   "metadata": {},
   "outputs": [],
   "source": [
    "accident['Year'] = accident['Year'].astype('category')\n",
    "accident['Month'] = accident['Month'].astype('category')\n",
    "accident['DayofWeek'] = accident['DayofWeek'].astype('category')\n",
    "accident['Day'] = accident['Day'].astype('category')"
   ]
  },
  {
   "cell_type": "code",
   "execution_count": 15,
   "id": "f7b3edd6-3993-42f0-94ae-f45394c45a70",
   "metadata": {},
   "outputs": [
    {
     "data": {
      "text/plain": [
       "Index                              object\n",
       "Accident_Severity                category\n",
       "Accident Date              datetime64[ns]\n",
       "Latitude                         category\n",
       "Light_Conditions                 category\n",
       "District Area                    category\n",
       "Longitude                        category\n",
       "Number_of_Casualties                int64\n",
       "Number_of_Vehicles                  int64\n",
       "Road_Surface_Conditions          category\n",
       "Road_Type                        category\n",
       "Urban_or_Rural_Area              category\n",
       "Weather_Conditions               category\n",
       "Vehicle_Type                     category\n",
       "Year                             category\n",
       "Month                            category\n",
       "DayofWeek                        category\n",
       "Day                              category\n",
       "dtype: object"
      ]
     },
     "execution_count": 15,
     "metadata": {},
     "output_type": "execute_result"
    }
   ],
   "source": [
    "accident.dtypes"
   ]
  },
  {
   "cell_type": "markdown",
   "id": "1f3fedaf-b446-4994-ae18-0af01e6d499e",
   "metadata": {},
   "source": [
    "<H1>Insights</H1>"
   ]
  },
  {
   "cell_type": "markdown",
   "id": "33a4f085-4bfa-4e7f-bc71-774c2b8d22c4",
   "metadata": {},
   "source": [
    "<H1> In what area did the accident happened the most? and the least?</H1>\n",
    "<h2>1. Birmingham has the most number of accidents while the Clackmannanshire has the least</h2>"
   ]
  },
  {
   "cell_type": "code",
   "execution_count": 16,
   "id": "84145846-104a-48a5-9939-88b436a1ec63",
   "metadata": {},
   "outputs": [
    {
     "name": "stdout",
     "output_type": "stream",
     "text": [
      "The Total value of accident in 2019 in District Areas 182115\n"
     ]
    },
    {
     "data": {
      "text/plain": [
       "District Area\n",
       "Aberdeen City    365\n",
       "Aberdeenshire    552\n",
       "Adur             171\n",
       "Allerdale        305\n",
       "Alnwick          107\n",
       "                ... \n",
       "Wychavon         366\n",
       "Wycombe          502\n",
       "Wyre             328\n",
       "Wyre Forest      230\n",
       "York             503\n",
       "Name: count, Length: 422, dtype: int64"
      ]
     },
     "execution_count": 16,
     "metadata": {},
     "output_type": "execute_result"
    }
   ],
   "source": [
    "accident['District Area'].value_counts()\n",
    "df_2019 = accident[accident['Year'] == 2019]\n",
    "print(f\"The Total value of accident in 2019 in District Areas {df_2019['District Area'].value_counts().sum()}\")\n",
    "df_2019['District Area'].value_counts().sort_index()"
   ]
  },
  {
   "cell_type": "markdown",
   "id": "b9f76fd6-e31d-4b03-af25-7762ab751139",
   "metadata": {},
   "source": [
    "<H1> On what specific day of the week did the accident happened the least and the most?</H1>\n",
    "<h2>2. Saturday has the most number of accidents while the Monday has the least</h2>"
   ]
  },
  {
   "cell_type": "code",
   "execution_count": 17,
   "id": "4e07a4c3-5cf0-45bc-9b51-e811579fe4b9",
   "metadata": {},
   "outputs": [
    {
     "data": {
      "text/plain": [
       "DayofWeek\n",
       "5    107178\n",
       "2     99558\n",
       "3     99511\n",
       "4     97900\n",
       "1     94550\n",
       "6     89302\n",
       "0     72680\n",
       "Name: count, dtype: int64"
      ]
     },
     "execution_count": 17,
     "metadata": {},
     "output_type": "execute_result"
    }
   ],
   "source": [
    "accident['DayofWeek'].value_counts()"
   ]
  },
  {
   "cell_type": "markdown",
   "id": "ec4573a3-c532-4944-aafc-5284e70d78ec",
   "metadata": {},
   "source": [
    "<H1> On what month did the accident happened the least and the most?</H1>\n",
    "<h2>3. November has the highest recorder number of accidents while the February has the least</h2>"
   ]
  },
  {
   "cell_type": "code",
   "execution_count": 18,
   "id": "b4fc084a-3cd1-402c-aac2-99696b4208ae",
   "metadata": {},
   "outputs": [
    {
     "data": {
      "text/plain": [
       "Month\n",
       "11    60424\n",
       "10    59580\n",
       "7     57445\n",
       "6     56481\n",
       "9     56455\n",
       "5     56352\n",
       "3     54086\n",
       "8     53913\n",
       "1     52872\n",
       "12    51836\n",
       "4     51744\n",
       "2     49491\n",
       "Name: count, dtype: int64"
      ]
     },
     "execution_count": 18,
     "metadata": {},
     "output_type": "execute_result"
    }
   ],
   "source": [
    "accident['Month'].value_counts()"
   ]
  },
  {
   "cell_type": "markdown",
   "id": "ca2135ed-9c06-4bdc-bc1d-0d2fcbc1ce17",
   "metadata": {},
   "source": [
    "<H1> On what Year has the highest and lowest recorded accidents?</H1>\n",
    "<h2>4. Year 2019 has the highest recorder number of accidents while year 2022 has the least</h2>"
   ]
  },
  {
   "cell_type": "code",
   "execution_count": 19,
   "id": "feb525b0-75f1-4012-9f12-d7e086a43725",
   "metadata": {},
   "outputs": [
    {
     "data": {
      "text/plain": [
       "Year\n",
       "2019    182115\n",
       "2020    170591\n",
       "2021    163554\n",
       "2022    144419\n",
       "Name: count, dtype: int64"
      ]
     },
     "execution_count": 19,
     "metadata": {},
     "output_type": "execute_result"
    }
   ],
   "source": [
    "accident['Year'].value_counts()"
   ]
  },
  {
   "cell_type": "markdown",
   "id": "5a70117c-16fe-4b36-96e4-c11c9cb65fe2",
   "metadata": {},
   "source": [
    "<H1> What Road Type did the accident happened the most? and the least?</H1>\n",
    "<h2>5. Single carriageway is the Road Type that has most number of accidents while the Slip road has the least</h2>"
   ]
  },
  {
   "cell_type": "code",
   "execution_count": 20,
   "id": "3388f210-7081-4033-a769-c2bec90eaa74",
   "metadata": {},
   "outputs": [
    {
     "data": {
      "text/plain": [
       "Road_Type\n",
       "Single carriageway    496663\n",
       "Dual carriageway       99424\n",
       "Roundabout             43992\n",
       "One way street         13559\n",
       "Slip road               7041\n",
       "Name: count, dtype: int64"
      ]
     },
     "execution_count": 20,
     "metadata": {},
     "output_type": "execute_result"
    }
   ],
   "source": [
    "accident['Road_Type'].value_counts()"
   ]
  },
  {
   "cell_type": "markdown",
   "id": "25306c02-f05c-4c8d-be3a-db7d04b3b891",
   "metadata": {},
   "source": [
    "<H1> What Weather Condition did the accident happened the most? and the least?</H1>\n",
    "<h2>6. The Weather Condition that has most number of accidents is Fine no high winds while the Snowing + high winds has the least</h2>"
   ]
  },
  {
   "cell_type": "code",
   "execution_count": 21,
   "id": "354e4330-83e7-405d-9b06-bbee258010cd",
   "metadata": {},
   "outputs": [
    {
     "data": {
      "text/plain": [
       "Weather_Conditions\n",
       "Fine no high winds       520885\n",
       "Raining no high winds     79696\n",
       "Other                     17150\n",
       "unknown weather           14128\n",
       "Raining + high winds       9615\n",
       "Fine + high winds          8554\n",
       "Snowing no high winds      6238\n",
       "Fog or mist                3528\n",
       "Snowing + high winds        885\n",
       "Name: count, dtype: int64"
      ]
     },
     "execution_count": 21,
     "metadata": {},
     "output_type": "execute_result"
    }
   ],
   "source": [
    "accident['Weather_Conditions'].value_counts()"
   ]
  },
  {
   "cell_type": "markdown",
   "id": "03d4e6a9-b90a-447d-8bad-70ced80bcb7f",
   "metadata": {},
   "source": [
    "<H1> What is the largest number of casualties happened considering the Road Type and Weather Conditions </H1>\n",
    "<h2>7. The maximum number of casualties recorded was 524703 happened in Single Carriageway during Fine no high winds</h2>"
   ]
  },
  {
   "cell_type": "code",
   "execution_count": 22,
   "id": "ab229b38-f800-443a-8f7e-254db690135b",
   "metadata": {},
   "outputs": [
    {
     "data": {
      "text/plain": [
       "Road_Type           Weather_Conditions   \n",
       "Dual carriageway    Fine + high winds          2191\n",
       "                    Fine no high winds       113679\n",
       "                    Fog or mist                1136\n",
       "                    Other                      3246\n",
       "                    Raining + high winds       3000\n",
       "                    Raining no high winds     19598\n",
       "                    Snowing + high winds        257\n",
       "                    Snowing no high winds      1427\n",
       "                    unknown weather            2343\n",
       "One way street      Fine + high winds           187\n",
       "                    Fine no high winds        13104\n",
       "                    Fog or mist                  36\n",
       "                    Other                       381\n",
       "                    Raining + high winds        200\n",
       "                    Raining no high winds      1775\n",
       "                    Snowing + high winds         15\n",
       "                    Snowing no high winds        96\n",
       "                    unknown weather             378\n",
       "Roundabout          Fine + high winds           720\n",
       "                    Fine no high winds        44115\n",
       "                    Fog or mist                 293\n",
       "                    Other                      1408\n",
       "                    Raining + high winds        706\n",
       "                    Raining no high winds      6911\n",
       "                    Snowing + high winds         46\n",
       "                    Snowing no high winds       382\n",
       "                    unknown weather            1504\n",
       "Single carriageway  Fine + high winds          8610\n",
       "                    Fine no high winds       524703\n",
       "                    Fog or mist                3615\n",
       "                    Other                     17939\n",
       "                    Raining + high winds       9562\n",
       "                    Raining no high winds     82663\n",
       "                    Snowing + high winds        924\n",
       "                    Snowing no high winds      6380\n",
       "                    unknown weather           13014\n",
       "Slip road           Fine + high winds           148\n",
       "                    Fine no high winds         7844\n",
       "                    Fog or mist                  46\n",
       "                    Other                       262\n",
       "                    Raining + high winds        153\n",
       "                    Raining no high winds      1282\n",
       "                    Snowing + high winds         13\n",
       "                    Snowing no high winds        85\n",
       "                    unknown weather             191\n",
       "Name: Number_of_Casualties, dtype: int64"
      ]
     },
     "execution_count": 22,
     "metadata": {},
     "output_type": "execute_result"
    }
   ],
   "source": [
    "accident.groupby(['Road_Type','Weather_Conditions'])['Number_of_Casualties'].sum()"
   ]
  },
  {
   "cell_type": "markdown",
   "id": "cd7a98c5-b1c3-49c2-ab34-ec68cdb950fd",
   "metadata": {},
   "source": [
    "<h1> What type of vehicle has the highest recorded accident on both urban and rural area? What is the total number of casualties of that vehicle on respective areas?</h1>\n",
    "<H2>8. Car is the type of vehicle that has the highest record of accident, 181922 is the total number of casualties in Rural Area while 316062 in Urban area which also concludes that Car accidents happened more in Urban Area</H2>"
   ]
  },
  {
   "cell_type": "code",
   "execution_count": 23,
   "id": "fa744dac-b8b9-4e8c-9699-70fe2d0a86f4",
   "metadata": {},
   "outputs": [],
   "source": [
    "casual = accident.groupby(['Urban_or_Rural_Area','Vehicle_Type'])['Number_of_Casualties'].size()"
   ]
  },
  {
   "cell_type": "code",
   "execution_count": 24,
   "id": "cb9ba8d7-02b5-4a23-ae6d-2667dcc3946c",
   "metadata": {},
   "outputs": [
    {
     "data": {
      "text/plain": [
       "Urban_or_Rural_Area  Vehicle_Type                         \n",
       "Rural                Agricultural vehicle                        675\n",
       "                     Bus or coach (17 or more pass seats)       9025\n",
       "                     Car                                      181922\n",
       "                     Data missing or out of range                  0\n",
       "                     Goods 7.5 tonnes mgw and over              6156\n",
       "                     Goods over 3.5t. and under 7.5t            2232\n",
       "                     Minibus (8 - 16 passenger seats)            718\n",
       "                     Motorcycle 125cc and under                 5023\n",
       "                     Motorcycle 50cc and under                  2710\n",
       "                     Motorcycle over 125cc and up to 500cc      2674\n",
       "                     Motorcycle over 500cc                      8957\n",
       "                     Other vehicle                              1994\n",
       "                     Pedal cycle                                  70\n",
       "                     Ridden horse                                  1\n",
       "                     Taxi/Private hire car                      4677\n",
       "                     Van / Goods 3.5 tonnes mgw or under       12156\n",
       "Unallocated          Agricultural vehicle                          0\n",
       "                     Bus or coach (17 or more pass seats)          2\n",
       "                     Car                                           8\n",
       "                     Data missing or out of range                  0\n",
       "                     Goods 7.5 tonnes mgw and over                 0\n",
       "                     Goods over 3.5t. and under 7.5t               0\n",
       "                     Minibus (8 - 16 passenger seats)              0\n",
       "                     Motorcycle 125cc and under                    0\n",
       "                     Motorcycle 50cc and under                     0\n",
       "                     Motorcycle over 125cc and up to 500cc         0\n",
       "                     Motorcycle over 500cc                         0\n",
       "                     Other vehicle                                 0\n",
       "                     Pedal cycle                                   0\n",
       "                     Ridden horse                                  0\n",
       "                     Taxi/Private hire car                         0\n",
       "                     Van / Goods 3.5 tonnes mgw or under           1\n",
       "Urban                Agricultural vehicle                       1272\n",
       "                     Bus or coach (17 or more pass seats)      16851\n",
       "                     Car                                      316062\n",
       "                     Data missing or out of range                  6\n",
       "                     Goods 7.5 tonnes mgw and over             11151\n",
       "                     Goods over 3.5t. and under 7.5t            3864\n",
       "                     Minibus (8 - 16 passenger seats)           1258\n",
       "                     Motorcycle 125cc and under                10246\n",
       "                     Motorcycle 50cc and under                  4893\n",
       "                     Motorcycle over 125cc and up to 500cc      4982\n",
       "                     Motorcycle over 500cc                     16700\n",
       "                     Other vehicle                              3643\n",
       "                     Pedal cycle                                 127\n",
       "                     Ridden horse                                  3\n",
       "                     Taxi/Private hire car                      8617\n",
       "                     Van / Goods 3.5 tonnes mgw or under       22003\n",
       "Name: Number_of_Casualties, dtype: int64"
      ]
     },
     "execution_count": 24,
     "metadata": {},
     "output_type": "execute_result"
    }
   ],
   "source": [
    "casual"
   ]
  },
  {
   "cell_type": "markdown",
   "id": "d988d0cb-38ab-43c5-9dc3-bd36a7396e8e",
   "metadata": {},
   "source": [
    "<H1>Is there a correlation between the number of vehicles been accident and the number of casualties </H1>\n",
    "<h2>9. The number of vehicles been accident has no correlation on the number of casualties</h2>"
   ]
  },
  {
   "cell_type": "code",
   "execution_count": 25,
   "id": "d4e60044-83ca-4eae-a900-8d39533b5e22",
   "metadata": {},
   "outputs": [],
   "source": [
    "cas_veh = accident['Number_of_Vehicles'].corr(accident['Number_of_Casualties'])"
   ]
  },
  {
   "cell_type": "code",
   "execution_count": 26,
   "id": "855096d0-fede-4921-a199-95b22a9eaa01",
   "metadata": {},
   "outputs": [
    {
     "data": {
      "text/plain": [
       "np.float64(0.22888886126927557)"
      ]
     },
     "execution_count": 26,
     "metadata": {},
     "output_type": "execute_result"
    }
   ],
   "source": [
    "cas_veh"
   ]
  },
  {
   "cell_type": "markdown",
   "id": "01c8578f-2d2f-4c89-831b-0527fffb827d",
   "metadata": {},
   "source": [
    "<H1> How many casualties happened in a Urban and Rural area every day of the week</H1>\n",
    "<h2>10. The table shows the number of casualties every day of the week in Rural and Urban area, as we can see Saturday (5) has the highest number in both of the area. We can also say that Wednesday(2) and Thursday(3) has somehow the same number. Lastly, Monday(0) has the lowest number of casualties among the day</h2>"
   ]
  },
  {
   "cell_type": "code",
   "execution_count": 27,
   "id": "debfb137-a2a2-4c9f-adc6-fdc348880fbe",
   "metadata": {},
   "outputs": [],
   "source": [
    "dow = accident.groupby(['DayofWeek','Urban_or_Rural_Area'])['Number_of_Casualties'].sum()"
   ]
  },
  {
   "cell_type": "code",
   "execution_count": 28,
   "id": "f599ab97-b9f2-4db4-a86e-8f1e7af970b1",
   "metadata": {},
   "outputs": [
    {
     "data": {
      "text/html": [
       "<div>\n",
       "<style scoped>\n",
       "    .dataframe tbody tr th:only-of-type {\n",
       "        vertical-align: middle;\n",
       "    }\n",
       "\n",
       "    .dataframe tbody tr th {\n",
       "        vertical-align: top;\n",
       "    }\n",
       "\n",
       "    .dataframe thead th {\n",
       "        text-align: right;\n",
       "    }\n",
       "</style>\n",
       "<table border=\"1\" class=\"dataframe\">\n",
       "  <thead>\n",
       "    <tr style=\"text-align: right;\">\n",
       "      <th>Urban_or_Rural_Area</th>\n",
       "      <th>Rural</th>\n",
       "      <th>Unallocated</th>\n",
       "      <th>Urban</th>\n",
       "    </tr>\n",
       "    <tr>\n",
       "      <th>DayofWeek</th>\n",
       "      <th></th>\n",
       "      <th></th>\n",
       "      <th></th>\n",
       "    </tr>\n",
       "  </thead>\n",
       "  <tbody>\n",
       "    <tr>\n",
       "      <th>0</th>\n",
       "      <td>47870</td>\n",
       "      <td>1</td>\n",
       "      <td>58655</td>\n",
       "    </tr>\n",
       "    <tr>\n",
       "      <th>1</th>\n",
       "      <td>48668</td>\n",
       "      <td>0</td>\n",
       "      <td>77253</td>\n",
       "    </tr>\n",
       "    <tr>\n",
       "      <th>2</th>\n",
       "      <td>49877</td>\n",
       "      <td>3</td>\n",
       "      <td>81330</td>\n",
       "    </tr>\n",
       "    <tr>\n",
       "      <th>3</th>\n",
       "      <td>49815</td>\n",
       "      <td>3</td>\n",
       "      <td>81652</td>\n",
       "    </tr>\n",
       "    <tr>\n",
       "      <th>4</th>\n",
       "      <td>49190</td>\n",
       "      <td>2</td>\n",
       "      <td>80353</td>\n",
       "    </tr>\n",
       "    <tr>\n",
       "      <th>5</th>\n",
       "      <td>56301</td>\n",
       "      <td>3</td>\n",
       "      <td>88491</td>\n",
       "    </tr>\n",
       "    <tr>\n",
       "      <th>6</th>\n",
       "      <td>51794</td>\n",
       "      <td>1</td>\n",
       "      <td>75306</td>\n",
       "    </tr>\n",
       "  </tbody>\n",
       "</table>\n",
       "</div>"
      ],
      "text/plain": [
       "Urban_or_Rural_Area  Rural  Unallocated  Urban\n",
       "DayofWeek                                     \n",
       "0                    47870            1  58655\n",
       "1                    48668            0  77253\n",
       "2                    49877            3  81330\n",
       "3                    49815            3  81652\n",
       "4                    49190            2  80353\n",
       "5                    56301            3  88491\n",
       "6                    51794            1  75306"
      ]
     },
     "execution_count": 28,
     "metadata": {},
     "output_type": "execute_result"
    }
   ],
   "source": [
    "dow.unstack()"
   ]
  },
  {
   "cell_type": "markdown",
   "id": "9edd7a59-63d2-48c4-a79c-e5ccacfd9ae3",
   "metadata": {},
   "source": [
    "<H1> How was the number of casualties in accident change every month in Urban and Rural Area?</H1>\n",
    "<h2>11. The table shows the number of casualties every Month in Rural and Urban area, we can see the changes in of numbers in every month. As shown, Urban area has greater number compared to Rural, from the month of January the number decreases on February but it increases again on March. We can see this pattern on the given table, sometimes increases and sometimes decreases. But to conclude, November got the highest number of casualties on both area while February has the lowest. </h2>"
   ]
  },
  {
   "cell_type": "code",
   "execution_count": 29,
   "id": "6e8d6a84-e693-4493-ad95-ab64e3b67f2a",
   "metadata": {},
   "outputs": [],
   "source": [
    "mot = accident.groupby(['Month','Urban_or_Rural_Area'])['Number_of_Casualties'].sum()"
   ]
  },
  {
   "cell_type": "code",
   "execution_count": 30,
   "id": "0bcc1872-814b-4fa1-bff8-d4c65f599b65",
   "metadata": {},
   "outputs": [
    {
     "data": {
      "text/html": [
       "<div>\n",
       "<style scoped>\n",
       "    .dataframe tbody tr th:only-of-type {\n",
       "        vertical-align: middle;\n",
       "    }\n",
       "\n",
       "    .dataframe tbody tr th {\n",
       "        vertical-align: top;\n",
       "    }\n",
       "\n",
       "    .dataframe thead th {\n",
       "        text-align: right;\n",
       "    }\n",
       "</style>\n",
       "<table border=\"1\" class=\"dataframe\">\n",
       "  <thead>\n",
       "    <tr style=\"text-align: right;\">\n",
       "      <th>Urban_or_Rural_Area</th>\n",
       "      <th>Rural</th>\n",
       "      <th>Unallocated</th>\n",
       "      <th>Urban</th>\n",
       "    </tr>\n",
       "    <tr>\n",
       "      <th>Month</th>\n",
       "      <th></th>\n",
       "      <th></th>\n",
       "      <th></th>\n",
       "    </tr>\n",
       "  </thead>\n",
       "  <tbody>\n",
       "    <tr>\n",
       "      <th>1</th>\n",
       "      <td>28298</td>\n",
       "      <td>1</td>\n",
       "      <td>42739</td>\n",
       "    </tr>\n",
       "    <tr>\n",
       "      <th>2</th>\n",
       "      <td>26352</td>\n",
       "      <td>0</td>\n",
       "      <td>40161</td>\n",
       "    </tr>\n",
       "    <tr>\n",
       "      <th>3</th>\n",
       "      <td>27615</td>\n",
       "      <td>1</td>\n",
       "      <td>45460</td>\n",
       "    </tr>\n",
       "    <tr>\n",
       "      <th>4</th>\n",
       "      <td>27645</td>\n",
       "      <td>1</td>\n",
       "      <td>42974</td>\n",
       "    </tr>\n",
       "    <tr>\n",
       "      <th>5</th>\n",
       "      <td>29995</td>\n",
       "      <td>4</td>\n",
       "      <td>46797</td>\n",
       "    </tr>\n",
       "    <tr>\n",
       "      <th>6</th>\n",
       "      <td>29762</td>\n",
       "      <td>2</td>\n",
       "      <td>46532</td>\n",
       "    </tr>\n",
       "    <tr>\n",
       "      <th>7</th>\n",
       "      <td>31603</td>\n",
       "      <td>1</td>\n",
       "      <td>46886</td>\n",
       "    </tr>\n",
       "    <tr>\n",
       "      <th>8</th>\n",
       "      <td>32216</td>\n",
       "      <td>0</td>\n",
       "      <td>43064</td>\n",
       "    </tr>\n",
       "    <tr>\n",
       "      <th>9</th>\n",
       "      <td>29361</td>\n",
       "      <td>0</td>\n",
       "      <td>46692</td>\n",
       "    </tr>\n",
       "    <tr>\n",
       "      <th>10</th>\n",
       "      <td>30791</td>\n",
       "      <td>0</td>\n",
       "      <td>49511</td>\n",
       "    </tr>\n",
       "    <tr>\n",
       "      <th>11</th>\n",
       "      <td>31262</td>\n",
       "      <td>0</td>\n",
       "      <td>50191</td>\n",
       "    </tr>\n",
       "    <tr>\n",
       "      <th>12</th>\n",
       "      <td>28615</td>\n",
       "      <td>3</td>\n",
       "      <td>42033</td>\n",
       "    </tr>\n",
       "  </tbody>\n",
       "</table>\n",
       "</div>"
      ],
      "text/plain": [
       "Urban_or_Rural_Area  Rural  Unallocated  Urban\n",
       "Month                                         \n",
       "1                    28298            1  42739\n",
       "2                    26352            0  40161\n",
       "3                    27615            1  45460\n",
       "4                    27645            1  42974\n",
       "5                    29995            4  46797\n",
       "6                    29762            2  46532\n",
       "7                    31603            1  46886\n",
       "8                    32216            0  43064\n",
       "9                    29361            0  46692\n",
       "10                   30791            0  49511\n",
       "11                   31262            0  50191\n",
       "12                   28615            3  42033"
      ]
     },
     "execution_count": 30,
     "metadata": {},
     "output_type": "execute_result"
    }
   ],
   "source": [
    "mot.unstack()"
   ]
  },
  {
   "cell_type": "markdown",
   "id": "b8f101fb-14c4-49e9-b9f6-3f209243e2e7",
   "metadata": {},
   "source": [
    "<h1>On what exact date has the maximum number of casualty?</h1>\n",
    "<H2>12. As shown in the graph, it is January 3, 2019 that has the maximum number of casualties with total of 68</H2>"
   ]
  },
  {
   "cell_type": "code",
   "execution_count": 31,
   "id": "8c73b9e7-1fc8-4aa2-97bf-4a0314c300da",
   "metadata": {},
   "outputs": [],
   "source": [
    "maxi = accident.groupby(['Month','Day','Year'])['Number_of_Casualties'].max()"
   ]
  },
  {
   "cell_type": "code",
   "execution_count": 32,
   "id": "37e57012-677c-4a6f-b4ee-d6dfde4a45ae",
   "metadata": {},
   "outputs": [
    {
     "data": {
      "text/html": [
       "<div>\n",
       "<style scoped>\n",
       "    .dataframe tbody tr th:only-of-type {\n",
       "        vertical-align: middle;\n",
       "    }\n",
       "\n",
       "    .dataframe tbody tr th {\n",
       "        vertical-align: top;\n",
       "    }\n",
       "\n",
       "    .dataframe thead th {\n",
       "        text-align: right;\n",
       "    }\n",
       "</style>\n",
       "<table border=\"1\" class=\"dataframe\">\n",
       "  <thead>\n",
       "    <tr style=\"text-align: right;\">\n",
       "      <th></th>\n",
       "      <th>Year</th>\n",
       "      <th>2019</th>\n",
       "      <th>2020</th>\n",
       "      <th>2021</th>\n",
       "      <th>2022</th>\n",
       "    </tr>\n",
       "    <tr>\n",
       "      <th>Month</th>\n",
       "      <th>Day</th>\n",
       "      <th></th>\n",
       "      <th></th>\n",
       "      <th></th>\n",
       "      <th></th>\n",
       "    </tr>\n",
       "  </thead>\n",
       "  <tbody>\n",
       "    <tr>\n",
       "      <th rowspan=\"5\" valign=\"top\">1</th>\n",
       "      <th>1</th>\n",
       "      <td>8.0</td>\n",
       "      <td>9.0</td>\n",
       "      <td>7.0</td>\n",
       "      <td>5.0</td>\n",
       "    </tr>\n",
       "    <tr>\n",
       "      <th>2</th>\n",
       "      <td>7.0</td>\n",
       "      <td>5.0</td>\n",
       "      <td>6.0</td>\n",
       "      <td>8.0</td>\n",
       "    </tr>\n",
       "    <tr>\n",
       "      <th>3</th>\n",
       "      <td>68.0</td>\n",
       "      <td>7.0</td>\n",
       "      <td>5.0</td>\n",
       "      <td>6.0</td>\n",
       "    </tr>\n",
       "    <tr>\n",
       "      <th>4</th>\n",
       "      <td>9.0</td>\n",
       "      <td>7.0</td>\n",
       "      <td>5.0</td>\n",
       "      <td>4.0</td>\n",
       "    </tr>\n",
       "    <tr>\n",
       "      <th>5</th>\n",
       "      <td>8.0</td>\n",
       "      <td>7.0</td>\n",
       "      <td>11.0</td>\n",
       "      <td>5.0</td>\n",
       "    </tr>\n",
       "    <tr>\n",
       "      <th>...</th>\n",
       "      <th>...</th>\n",
       "      <td>...</td>\n",
       "      <td>...</td>\n",
       "      <td>...</td>\n",
       "      <td>...</td>\n",
       "    </tr>\n",
       "    <tr>\n",
       "      <th rowspan=\"5\" valign=\"top\">12</th>\n",
       "      <th>27</th>\n",
       "      <td>5.0</td>\n",
       "      <td>5.0</td>\n",
       "      <td>10.0</td>\n",
       "      <td>7.0</td>\n",
       "    </tr>\n",
       "    <tr>\n",
       "      <th>28</th>\n",
       "      <td>9.0</td>\n",
       "      <td>10.0</td>\n",
       "      <td>10.0</td>\n",
       "      <td>7.0</td>\n",
       "    </tr>\n",
       "    <tr>\n",
       "      <th>29</th>\n",
       "      <td>7.0</td>\n",
       "      <td>6.0</td>\n",
       "      <td>6.0</td>\n",
       "      <td>7.0</td>\n",
       "    </tr>\n",
       "    <tr>\n",
       "      <th>30</th>\n",
       "      <td>5.0</td>\n",
       "      <td>4.0</td>\n",
       "      <td>5.0</td>\n",
       "      <td>5.0</td>\n",
       "    </tr>\n",
       "    <tr>\n",
       "      <th>31</th>\n",
       "      <td>9.0</td>\n",
       "      <td>6.0</td>\n",
       "      <td>6.0</td>\n",
       "      <td>8.0</td>\n",
       "    </tr>\n",
       "  </tbody>\n",
       "</table>\n",
       "<p>372 rows × 4 columns</p>\n",
       "</div>"
      ],
      "text/plain": [
       "Year       2019  2020  2021  2022\n",
       "Month Day                        \n",
       "1     1     8.0   9.0   7.0   5.0\n",
       "      2     7.0   5.0   6.0   8.0\n",
       "      3    68.0   7.0   5.0   6.0\n",
       "      4     9.0   7.0   5.0   4.0\n",
       "      5     8.0   7.0  11.0   5.0\n",
       "...         ...   ...   ...   ...\n",
       "12    27    5.0   5.0  10.0   7.0\n",
       "      28    9.0  10.0  10.0   7.0\n",
       "      29    7.0   6.0   6.0   7.0\n",
       "      30    5.0   4.0   5.0   5.0\n",
       "      31    9.0   6.0   6.0   8.0\n",
       "\n",
       "[372 rows x 4 columns]"
      ]
     },
     "execution_count": 32,
     "metadata": {},
     "output_type": "execute_result"
    }
   ],
   "source": [
    "maxi.unstack()"
   ]
  },
  {
   "cell_type": "code",
   "execution_count": 33,
   "id": "ad6429a8-425a-454c-b3ea-ec5ca495a7b2",
   "metadata": {},
   "outputs": [
    {
     "data": {
      "text/plain": [
       "np.float64(68.0)"
      ]
     },
     "execution_count": 33,
     "metadata": {},
     "output_type": "execute_result"
    }
   ],
   "source": [
    "maxi.max()"
   ]
  },
  {
   "cell_type": "code",
   "execution_count": 34,
   "id": "98ea6366-3a1f-42ef-ad77-f7bfcbff7a0d",
   "metadata": {},
   "outputs": [
    {
     "data": {
      "text/plain": [
       "(np.int32(1), np.int32(3), np.int32(2019))"
      ]
     },
     "execution_count": 34,
     "metadata": {},
     "output_type": "execute_result"
    }
   ],
   "source": [
    "maxi.idxmax()"
   ]
  },
  {
   "cell_type": "markdown",
   "id": "bd4be51b-f1fd-453d-90ab-b84b120beaa5",
   "metadata": {},
   "source": [
    "<h1>On what exact date has the highest total number of casualty?</h1>\n",
    "<H2>13. It is 07/13/2019 or August 13, 2019 that has the highest total number of casualties with total of 963</H2>"
   ]
  },
  {
   "cell_type": "code",
   "execution_count": 35,
   "id": "3b885fcb-e8d9-4d45-b9d0-0ae16c71e19f",
   "metadata": {},
   "outputs": [],
   "source": [
    "mixi = accident.groupby(['Month','Day','Year'])['Number_of_Casualties'].sum()"
   ]
  },
  {
   "cell_type": "code",
   "execution_count": 36,
   "id": "2da42909-f332-47c3-8136-a1f2ea3c16d1",
   "metadata": {
    "scrolled": true
   },
   "outputs": [
    {
     "data": {
      "text/html": [
       "<div>\n",
       "<style scoped>\n",
       "    .dataframe tbody tr th:only-of-type {\n",
       "        vertical-align: middle;\n",
       "    }\n",
       "\n",
       "    .dataframe tbody tr th {\n",
       "        vertical-align: top;\n",
       "    }\n",
       "\n",
       "    .dataframe thead th {\n",
       "        text-align: right;\n",
       "    }\n",
       "</style>\n",
       "<table border=\"1\" class=\"dataframe\">\n",
       "  <thead>\n",
       "    <tr style=\"text-align: right;\">\n",
       "      <th></th>\n",
       "      <th>Year</th>\n",
       "      <th>2019</th>\n",
       "      <th>2020</th>\n",
       "      <th>2021</th>\n",
       "      <th>2022</th>\n",
       "    </tr>\n",
       "    <tr>\n",
       "      <th>Month</th>\n",
       "      <th>Day</th>\n",
       "      <th></th>\n",
       "      <th></th>\n",
       "      <th></th>\n",
       "      <th></th>\n",
       "    </tr>\n",
       "  </thead>\n",
       "  <tbody>\n",
       "    <tr>\n",
       "      <th rowspan=\"5\" valign=\"top\">1</th>\n",
       "      <th>1</th>\n",
       "      <td>494</td>\n",
       "      <td>360</td>\n",
       "      <td>360</td>\n",
       "      <td>373</td>\n",
       "    </tr>\n",
       "    <tr>\n",
       "      <th>2</th>\n",
       "      <td>505</td>\n",
       "      <td>349</td>\n",
       "      <td>427</td>\n",
       "      <td>400</td>\n",
       "    </tr>\n",
       "    <tr>\n",
       "      <th>3</th>\n",
       "      <td>605</td>\n",
       "      <td>426</td>\n",
       "      <td>506</td>\n",
       "      <td>371</td>\n",
       "    </tr>\n",
       "    <tr>\n",
       "      <th>4</th>\n",
       "      <td>553</td>\n",
       "      <td>539</td>\n",
       "      <td>413</td>\n",
       "      <td>484</td>\n",
       "    </tr>\n",
       "    <tr>\n",
       "      <th>5</th>\n",
       "      <td>587</td>\n",
       "      <td>489</td>\n",
       "      <td>620</td>\n",
       "      <td>450</td>\n",
       "    </tr>\n",
       "    <tr>\n",
       "      <th>...</th>\n",
       "      <th>...</th>\n",
       "      <td>...</td>\n",
       "      <td>...</td>\n",
       "      <td>...</td>\n",
       "      <td>...</td>\n",
       "    </tr>\n",
       "    <tr>\n",
       "      <th rowspan=\"5\" valign=\"top\">12</th>\n",
       "      <th>27</th>\n",
       "      <td>373</td>\n",
       "      <td>402</td>\n",
       "      <td>342</td>\n",
       "      <td>266</td>\n",
       "    </tr>\n",
       "    <tr>\n",
       "      <th>28</th>\n",
       "      <td>486</td>\n",
       "      <td>383</td>\n",
       "      <td>421</td>\n",
       "      <td>274</td>\n",
       "    </tr>\n",
       "    <tr>\n",
       "      <th>29</th>\n",
       "      <td>445</td>\n",
       "      <td>377</td>\n",
       "      <td>391</td>\n",
       "      <td>303</td>\n",
       "    </tr>\n",
       "    <tr>\n",
       "      <th>30</th>\n",
       "      <td>251</td>\n",
       "      <td>435</td>\n",
       "      <td>333</td>\n",
       "      <td>242</td>\n",
       "    </tr>\n",
       "    <tr>\n",
       "      <th>31</th>\n",
       "      <td>341</td>\n",
       "      <td>367</td>\n",
       "      <td>366</td>\n",
       "      <td>262</td>\n",
       "    </tr>\n",
       "  </tbody>\n",
       "</table>\n",
       "<p>372 rows × 4 columns</p>\n",
       "</div>"
      ],
      "text/plain": [
       "Year       2019  2020  2021  2022\n",
       "Month Day                        \n",
       "1     1     494   360   360   373\n",
       "      2     505   349   427   400\n",
       "      3     605   426   506   371\n",
       "      4     553   539   413   484\n",
       "      5     587   489   620   450\n",
       "...         ...   ...   ...   ...\n",
       "12    27    373   402   342   266\n",
       "      28    486   383   421   274\n",
       "      29    445   377   391   303\n",
       "      30    251   435   333   242\n",
       "      31    341   367   366   262\n",
       "\n",
       "[372 rows x 4 columns]"
      ]
     },
     "execution_count": 36,
     "metadata": {},
     "output_type": "execute_result"
    }
   ],
   "source": [
    "mixi.unstack()"
   ]
  },
  {
   "cell_type": "code",
   "execution_count": 37,
   "id": "307002a2-ce06-430f-b79a-8afb708f09fe",
   "metadata": {},
   "outputs": [
    {
     "data": {
      "text/plain": [
       "np.int64(963)"
      ]
     },
     "execution_count": 37,
     "metadata": {},
     "output_type": "execute_result"
    }
   ],
   "source": [
    "mixi.max()"
   ]
  },
  {
   "cell_type": "code",
   "execution_count": 38,
   "id": "474576e3-3531-425d-a8fa-9c3783bc5673",
   "metadata": {},
   "outputs": [
    {
     "data": {
      "text/plain": [
       "(np.int32(7), np.int32(13), np.int32(2019))"
      ]
     },
     "execution_count": 38,
     "metadata": {},
     "output_type": "execute_result"
    }
   ],
   "source": [
    "mixi.idxmax()"
   ]
  },
  {
   "cell_type": "markdown",
   "id": "aba2a1b1-671e-4fc0-bb35-b42ef44c268e",
   "metadata": {},
   "source": [
    "<H1>Does the accident severity correlates to Number of Casualties?</H1>\n",
    "<H2>14. NO, Accident Severity has no correlation between number of casualties</H2>"
   ]
  },
  {
   "cell_type": "code",
   "execution_count": 39,
   "id": "6d3c6ae3-f2fc-4865-8d63-12339c30ba4a",
   "metadata": {},
   "outputs": [
    {
     "name": "stdout",
     "output_type": "stream",
     "text": [
      "0.0\n"
     ]
    }
   ],
   "source": [
    "f_stats,p_value = f_oneway(accident[accident['Accident_Severity'] == 'Slight']['Number_of_Casualties'],\n",
    "                           accident[accident['Accident_Severity'] == 'Serious']['Number_of_Casualties'],\n",
    "                           accident[accident['Accident_Severity'] == 'Fatal']['Number_of_Casualties'])\n",
    "print(p_value)"
   ]
  },
  {
   "cell_type": "code",
   "execution_count": 40,
   "id": "ee415b47-ff04-4551-a3e2-802e6904bd6d",
   "metadata": {},
   "outputs": [
    {
     "data": {
      "text/plain": [
       "Light_Conditions\n",
       "Daylight                       484880\n",
       "Darkness - lights lit          129335\n",
       "Darkness - no lighting          37437\n",
       "Darkness - lighting unknown      6484\n",
       "Darkness - lights unlit          2543\n",
       "Name: count, dtype: int64"
      ]
     },
     "execution_count": 40,
     "metadata": {},
     "output_type": "execute_result"
    }
   ],
   "source": [
    "accident['Light_Conditions'].value_counts()"
   ]
  },
  {
   "cell_type": "markdown",
   "id": "4e958edc-2c76-4307-9e6e-e7a3063c175d",
   "metadata": {},
   "source": [
    "<H1>Does the Light Conditions correlates to Number of Vehicles being accident?</H1>\n",
    "<H2>15. NO,Light Conditions has no correlation between number of vehicles being accident</H2>"
   ]
  },
  {
   "cell_type": "code",
   "execution_count": 41,
   "id": "c013b7cb-4dcb-4b6e-be0d-9848e5a7d5e6",
   "metadata": {},
   "outputs": [
    {
     "name": "stdout",
     "output_type": "stream",
     "text": [
      "0.0\n"
     ]
    }
   ],
   "source": [
    "f_stats,p_value = f_oneway(accident[accident['Light_Conditions'] == 'Daylight']['Number_of_Vehicles'],\n",
    "                           accident[accident['Light_Conditions'] == 'Darkness - lights lit']['Number_of_Vehicles'],\n",
    "                           accident[accident['Light_Conditions'] == 'Darkness - no lighting']['Number_of_Vehicles'],\n",
    "                           accident[accident['Light_Conditions'] == 'Darkness - lighting unknown']['Number_of_Vehicles'],\n",
    "                           accident[accident['Light_Conditions'] == 'Darkness - lights unlit']['Number_of_Vehicles'])\n",
    "                           \n",
    "print(p_value)"
   ]
  },
  {
   "cell_type": "markdown",
   "id": "0e9ffd7b-8859-4e05-912e-35a590aa0be9",
   "metadata": {},
   "source": [
    "<h1>What weather condition result to FATAL accident severity?</h1>\n",
    "<h2>16. As we can see on the table, Fine no high winds weather condition mostly leads to a Fatal accident severity</h2>"
   ]
  },
  {
   "cell_type": "code",
   "execution_count": 42,
   "id": "0658b3ca-c376-404b-b033-4cfd2ce03ecf",
   "metadata": {},
   "outputs": [],
   "source": [
    "was = accident.groupby(['Weather_Conditions','Accident_Severity']).size()"
   ]
  },
  {
   "cell_type": "code",
   "execution_count": 43,
   "id": "8c7d4b21-e903-4fbd-bbe0-7fa99725868f",
   "metadata": {},
   "outputs": [
    {
     "data": {
      "text/html": [
       "<div>\n",
       "<style scoped>\n",
       "    .dataframe tbody tr th:only-of-type {\n",
       "        vertical-align: middle;\n",
       "    }\n",
       "\n",
       "    .dataframe tbody tr th {\n",
       "        vertical-align: top;\n",
       "    }\n",
       "\n",
       "    .dataframe thead th {\n",
       "        text-align: right;\n",
       "    }\n",
       "</style>\n",
       "<table border=\"1\" class=\"dataframe\">\n",
       "  <thead>\n",
       "    <tr style=\"text-align: right;\">\n",
       "      <th>Accident_Severity</th>\n",
       "      <th>Fatal</th>\n",
       "      <th>Serious</th>\n",
       "      <th>Slight</th>\n",
       "    </tr>\n",
       "    <tr>\n",
       "      <th>Weather_Conditions</th>\n",
       "      <th></th>\n",
       "      <th></th>\n",
       "      <th></th>\n",
       "    </tr>\n",
       "  </thead>\n",
       "  <tbody>\n",
       "    <tr>\n",
       "      <th>Fine + high winds</th>\n",
       "      <td>175</td>\n",
       "      <td>1245</td>\n",
       "      <td>7134</td>\n",
       "    </tr>\n",
       "    <tr>\n",
       "      <th>Fine no high winds</th>\n",
       "      <td>7100</td>\n",
       "      <td>72046</td>\n",
       "      <td>441739</td>\n",
       "    </tr>\n",
       "    <tr>\n",
       "      <th>Fog or mist</th>\n",
       "      <td>82</td>\n",
       "      <td>483</td>\n",
       "      <td>2963</td>\n",
       "    </tr>\n",
       "    <tr>\n",
       "      <th>Other</th>\n",
       "      <td>165</td>\n",
       "      <td>1801</td>\n",
       "      <td>15184</td>\n",
       "    </tr>\n",
       "    <tr>\n",
       "      <th>Raining + high winds</th>\n",
       "      <td>145</td>\n",
       "      <td>1261</td>\n",
       "      <td>8209</td>\n",
       "    </tr>\n",
       "    <tr>\n",
       "      <th>Raining no high winds</th>\n",
       "      <td>848</td>\n",
       "      <td>9468</td>\n",
       "      <td>69380</td>\n",
       "    </tr>\n",
       "    <tr>\n",
       "      <th>Snowing + high winds</th>\n",
       "      <td>3</td>\n",
       "      <td>109</td>\n",
       "      <td>773</td>\n",
       "    </tr>\n",
       "    <tr>\n",
       "      <th>Snowing no high winds</th>\n",
       "      <td>36</td>\n",
       "      <td>565</td>\n",
       "      <td>5637</td>\n",
       "    </tr>\n",
       "    <tr>\n",
       "      <th>unknown weather</th>\n",
       "      <td>107</td>\n",
       "      <td>1239</td>\n",
       "      <td>12782</td>\n",
       "    </tr>\n",
       "  </tbody>\n",
       "</table>\n",
       "</div>"
      ],
      "text/plain": [
       "Accident_Severity      Fatal  Serious  Slight\n",
       "Weather_Conditions                           \n",
       "Fine + high winds        175     1245    7134\n",
       "Fine no high winds      7100    72046  441739\n",
       "Fog or mist               82      483    2963\n",
       "Other                    165     1801   15184\n",
       "Raining + high winds     145     1261    8209\n",
       "Raining no high winds    848     9468   69380\n",
       "Snowing + high winds       3      109     773\n",
       "Snowing no high winds     36      565    5637\n",
       "unknown weather          107     1239   12782"
      ]
     },
     "execution_count": 43,
     "metadata": {},
     "output_type": "execute_result"
    }
   ],
   "source": [
    "was.unstack()"
   ]
  },
  {
   "cell_type": "markdown",
   "id": "4a8206c2-63fc-4188-8e93-a05f55cefc33",
   "metadata": {},
   "source": [
    "<h1>What Light condition contributes to SERIOUS accident severity?</h1>\n",
    "<h2>17. As we can see on the table, Daylight Light condition mostly contributes to a Serious accident severity</h2>"
   ]
  },
  {
   "cell_type": "code",
   "execution_count": 44,
   "id": "8e9446ba-bcf2-4bb7-ae62-892b32395ca8",
   "metadata": {},
   "outputs": [],
   "source": [
    "acs = accident.groupby(['Light_Conditions','Accident_Severity']).size()"
   ]
  },
  {
   "cell_type": "code",
   "execution_count": 45,
   "id": "de4e536d-0d36-4dc7-ad60-0340991e32b8",
   "metadata": {},
   "outputs": [
    {
     "data": {
      "text/html": [
       "<div>\n",
       "<style scoped>\n",
       "    .dataframe tbody tr th:only-of-type {\n",
       "        vertical-align: middle;\n",
       "    }\n",
       "\n",
       "    .dataframe tbody tr th {\n",
       "        vertical-align: top;\n",
       "    }\n",
       "\n",
       "    .dataframe thead th {\n",
       "        text-align: right;\n",
       "    }\n",
       "</style>\n",
       "<table border=\"1\" class=\"dataframe\">\n",
       "  <thead>\n",
       "    <tr style=\"text-align: right;\">\n",
       "      <th>Accident_Severity</th>\n",
       "      <th>Fatal</th>\n",
       "      <th>Serious</th>\n",
       "      <th>Slight</th>\n",
       "    </tr>\n",
       "    <tr>\n",
       "      <th>Light_Conditions</th>\n",
       "      <th></th>\n",
       "      <th></th>\n",
       "      <th></th>\n",
       "    </tr>\n",
       "  </thead>\n",
       "  <tbody>\n",
       "    <tr>\n",
       "      <th>Darkness - lighting unknown</th>\n",
       "      <td>68</td>\n",
       "      <td>794</td>\n",
       "      <td>5622</td>\n",
       "    </tr>\n",
       "    <tr>\n",
       "      <th>Darkness - lights lit</th>\n",
       "      <td>1860</td>\n",
       "      <td>19130</td>\n",
       "      <td>108345</td>\n",
       "    </tr>\n",
       "    <tr>\n",
       "      <th>Darkness - lights unlit</th>\n",
       "      <td>45</td>\n",
       "      <td>360</td>\n",
       "      <td>2138</td>\n",
       "    </tr>\n",
       "    <tr>\n",
       "      <th>Darkness - no lighting</th>\n",
       "      <td>1612</td>\n",
       "      <td>7174</td>\n",
       "      <td>28651</td>\n",
       "    </tr>\n",
       "    <tr>\n",
       "      <th>Daylight</th>\n",
       "      <td>5076</td>\n",
       "      <td>60759</td>\n",
       "      <td>419045</td>\n",
       "    </tr>\n",
       "  </tbody>\n",
       "</table>\n",
       "</div>"
      ],
      "text/plain": [
       "Accident_Severity            Fatal  Serious  Slight\n",
       "Light_Conditions                                   \n",
       "Darkness - lighting unknown     68      794    5622\n",
       "Darkness - lights lit         1860    19130  108345\n",
       "Darkness - lights unlit         45      360    2138\n",
       "Darkness - no lighting        1612     7174   28651\n",
       "Daylight                      5076    60759  419045"
      ]
     },
     "execution_count": 45,
     "metadata": {},
     "output_type": "execute_result"
    }
   ],
   "source": [
    "acs.unstack()"
   ]
  },
  {
   "cell_type": "code",
   "execution_count": 46,
   "id": "7278bf00-4306-4021-85f1-1f09732c6221",
   "metadata": {},
   "outputs": [
    {
     "data": {
      "text/plain": [
       "Index                              object\n",
       "Accident_Severity                category\n",
       "Accident Date              datetime64[ns]\n",
       "Latitude                         category\n",
       "Light_Conditions                 category\n",
       "District Area                    category\n",
       "Longitude                        category\n",
       "Number_of_Casualties                int64\n",
       "Number_of_Vehicles                  int64\n",
       "Road_Surface_Conditions          category\n",
       "Road_Type                        category\n",
       "Urban_or_Rural_Area              category\n",
       "Weather_Conditions               category\n",
       "Vehicle_Type                     category\n",
       "Year                             category\n",
       "Month                            category\n",
       "DayofWeek                        category\n",
       "Day                              category\n",
       "dtype: object"
      ]
     },
     "execution_count": 46,
     "metadata": {},
     "output_type": "execute_result"
    }
   ],
   "source": [
    "accident.dtypes"
   ]
  },
  {
   "cell_type": "markdown",
   "id": "26f38009-6ba7-47eb-b35d-694910ae535f",
   "metadata": {},
   "source": [
    "<h1>On what district area has the highest number of casualty in a single day?</h1>\n",
    "<h2>18. South Bucks has the highest number of casualtyin a single day</h2>"
   ]
  },
  {
   "cell_type": "code",
   "execution_count": 47,
   "id": "da872f3b-d4c9-4e56-97da-5c464bd2c1be",
   "metadata": {},
   "outputs": [],
   "source": [
    "distmax = accident.groupby(['District Area'])['Number_of_Casualties'].max()"
   ]
  },
  {
   "cell_type": "code",
   "execution_count": 48,
   "id": "ec0d5488-3cc5-44a0-a121-b9eb731ab21b",
   "metadata": {},
   "outputs": [
    {
     "data": {
      "text/plain": [
       "'South Bucks'"
      ]
     },
     "execution_count": 48,
     "metadata": {},
     "output_type": "execute_result"
    }
   ],
   "source": [
    "distmax.idxmax()"
   ]
  },
  {
   "cell_type": "code",
   "execution_count": 49,
   "id": "0392a639-9880-4820-887e-946ae25f7a1a",
   "metadata": {},
   "outputs": [
    {
     "data": {
      "text/plain": [
       "np.int64(68)"
      ]
     },
     "execution_count": 49,
     "metadata": {},
     "output_type": "execute_result"
    }
   ],
   "source": [
    "distmax.max()"
   ]
  },
  {
   "cell_type": "markdown",
   "id": "87bc622c-488a-4138-aeff-4e76dfe7dbf3",
   "metadata": {},
   "source": [
    "<h1> What Road Surface condition causes most casualty?</h1>\n",
    "<h2>19. Wet or Damp road surface condition mostly causes casualty</h2>"
   ]
  },
  {
   "cell_type": "code",
   "execution_count": 50,
   "id": "0f41911e-bae1-4d40-9530-1b302aed29b4",
   "metadata": {},
   "outputs": [],
   "source": [
    "monthmax = accident.groupby(['Road_Surface_Conditions'])['Number_of_Casualties'].size()"
   ]
  },
  {
   "cell_type": "code",
   "execution_count": 51,
   "id": "9f505222-b21f-46f3-bc15-cc7b5f37fed9",
   "metadata": {},
   "outputs": [
    {
     "data": {
      "text/plain": [
       "'Dry'"
      ]
     },
     "execution_count": 51,
     "metadata": {},
     "output_type": "execute_result"
    }
   ],
   "source": [
    "monthmax.idxmax()"
   ]
  },
  {
   "cell_type": "markdown",
   "id": "ac4a0abc-43b2-48c5-961d-351339353304",
   "metadata": {},
   "source": [
    "<h1>How does the motorcycle accidents mostly categorized (Accident Severity)?  </h1>\n",
    "<h2>20. As shown, most of motorcycle accidents are categorized as slight severe</h2>"
   ]
  },
  {
   "cell_type": "code",
   "execution_count": 52,
   "id": "5281e55d-8a0c-4ca6-9658-9f670ac4d733",
   "metadata": {},
   "outputs": [],
   "source": [
    "wey = accident.groupby(['Vehicle_Type','Accident_Severity']).size()"
   ]
  },
  {
   "cell_type": "code",
   "execution_count": 53,
   "id": "2dd3876f-421b-4a35-b9f4-06067dc69642",
   "metadata": {},
   "outputs": [
    {
     "data": {
      "text/html": [
       "<div>\n",
       "<style scoped>\n",
       "    .dataframe tbody tr th:only-of-type {\n",
       "        vertical-align: middle;\n",
       "    }\n",
       "\n",
       "    .dataframe tbody tr th {\n",
       "        vertical-align: top;\n",
       "    }\n",
       "\n",
       "    .dataframe thead th {\n",
       "        text-align: right;\n",
       "    }\n",
       "</style>\n",
       "<table border=\"1\" class=\"dataframe\">\n",
       "  <thead>\n",
       "    <tr style=\"text-align: right;\">\n",
       "      <th>Accident_Severity</th>\n",
       "      <th>Fatal</th>\n",
       "      <th>Serious</th>\n",
       "      <th>Slight</th>\n",
       "    </tr>\n",
       "    <tr>\n",
       "      <th>Vehicle_Type</th>\n",
       "      <th></th>\n",
       "      <th></th>\n",
       "      <th></th>\n",
       "    </tr>\n",
       "  </thead>\n",
       "  <tbody>\n",
       "    <tr>\n",
       "      <th>Agricultural vehicle</th>\n",
       "      <td>21</td>\n",
       "      <td>282</td>\n",
       "      <td>1644</td>\n",
       "    </tr>\n",
       "    <tr>\n",
       "      <th>Bus or coach (17 or more pass seats)</th>\n",
       "      <td>325</td>\n",
       "      <td>3373</td>\n",
       "      <td>22180</td>\n",
       "    </tr>\n",
       "    <tr>\n",
       "      <th>Car</th>\n",
       "      <td>6577</td>\n",
       "      <td>66461</td>\n",
       "      <td>424954</td>\n",
       "    </tr>\n",
       "    <tr>\n",
       "      <th>Data missing or out of range</th>\n",
       "      <td>0</td>\n",
       "      <td>0</td>\n",
       "      <td>6</td>\n",
       "    </tr>\n",
       "    <tr>\n",
       "      <th>Goods 7.5 tonnes mgw and over</th>\n",
       "      <td>216</td>\n",
       "      <td>2321</td>\n",
       "      <td>14770</td>\n",
       "    </tr>\n",
       "    <tr>\n",
       "      <th>Goods over 3.5t. and under 7.5t</th>\n",
       "      <td>67</td>\n",
       "      <td>857</td>\n",
       "      <td>5172</td>\n",
       "    </tr>\n",
       "    <tr>\n",
       "      <th>Minibus (8 - 16 passenger seats)</th>\n",
       "      <td>29</td>\n",
       "      <td>276</td>\n",
       "      <td>1671</td>\n",
       "    </tr>\n",
       "    <tr>\n",
       "      <th>Motorcycle 125cc and under</th>\n",
       "      <td>189</td>\n",
       "      <td>2031</td>\n",
       "      <td>13049</td>\n",
       "    </tr>\n",
       "    <tr>\n",
       "      <th>Motorcycle 50cc and under</th>\n",
       "      <td>95</td>\n",
       "      <td>1014</td>\n",
       "      <td>6494</td>\n",
       "    </tr>\n",
       "    <tr>\n",
       "      <th>Motorcycle over 125cc and up to 500cc</th>\n",
       "      <td>105</td>\n",
       "      <td>1014</td>\n",
       "      <td>6537</td>\n",
       "    </tr>\n",
       "    <tr>\n",
       "      <th>Motorcycle over 500cc</th>\n",
       "      <td>339</td>\n",
       "      <td>3457</td>\n",
       "      <td>21861</td>\n",
       "    </tr>\n",
       "    <tr>\n",
       "      <th>Other vehicle</th>\n",
       "      <td>70</td>\n",
       "      <td>767</td>\n",
       "      <td>4800</td>\n",
       "    </tr>\n",
       "    <tr>\n",
       "      <th>Pedal cycle</th>\n",
       "      <td>6</td>\n",
       "      <td>39</td>\n",
       "      <td>152</td>\n",
       "    </tr>\n",
       "    <tr>\n",
       "      <th>Ridden horse</th>\n",
       "      <td>0</td>\n",
       "      <td>0</td>\n",
       "      <td>4</td>\n",
       "    </tr>\n",
       "    <tr>\n",
       "      <th>Taxi/Private hire car</th>\n",
       "      <td>155</td>\n",
       "      <td>1771</td>\n",
       "      <td>11368</td>\n",
       "    </tr>\n",
       "    <tr>\n",
       "      <th>Van / Goods 3.5 tonnes mgw or under</th>\n",
       "      <td>467</td>\n",
       "      <td>4554</td>\n",
       "      <td>29139</td>\n",
       "    </tr>\n",
       "  </tbody>\n",
       "</table>\n",
       "</div>"
      ],
      "text/plain": [
       "Accident_Severity                      Fatal  Serious  Slight\n",
       "Vehicle_Type                                                 \n",
       "Agricultural vehicle                      21      282    1644\n",
       "Bus or coach (17 or more pass seats)     325     3373   22180\n",
       "Car                                     6577    66461  424954\n",
       "Data missing or out of range               0        0       6\n",
       "Goods 7.5 tonnes mgw and over            216     2321   14770\n",
       "Goods over 3.5t. and under 7.5t           67      857    5172\n",
       "Minibus (8 - 16 passenger seats)          29      276    1671\n",
       "Motorcycle 125cc and under               189     2031   13049\n",
       "Motorcycle 50cc and under                 95     1014    6494\n",
       "Motorcycle over 125cc and up to 500cc    105     1014    6537\n",
       "Motorcycle over 500cc                    339     3457   21861\n",
       "Other vehicle                             70      767    4800\n",
       "Pedal cycle                                6       39     152\n",
       "Ridden horse                               0        0       4\n",
       "Taxi/Private hire car                    155     1771   11368\n",
       "Van / Goods 3.5 tonnes mgw or under      467     4554   29139"
      ]
     },
     "execution_count": 53,
     "metadata": {},
     "output_type": "execute_result"
    }
   ],
   "source": [
    "wey.unstack()"
   ]
  },
  {
   "cell_type": "markdown",
   "id": "85d79619-4747-41fe-a2c2-7129a37ba7c2",
   "metadata": {},
   "source": [
    "<h1>Bar Plot</h1>"
   ]
  },
  {
   "cell_type": "code",
   "execution_count": 54,
   "id": "eb0b8368-55a5-45f5-ad05-15c257afc55d",
   "metadata": {},
   "outputs": [
    {
     "data": {
      "image/png": "[encoded data removed]",
      "text/plain": [
       "<Figure size 1300x800 with 1 Axes>"
      ]
     },
     "metadata": {},
     "output_type": "display_data"
    }
   ],
   "source": [
    "# Accidents considering severity'\n",
    "accident_per_month_severity = accident.groupby(['Year','Accident_Severity']).size().unstack()\n",
    "\n",
    "accident_per_month_severity.plot(kind='bar',)\n",
    "# Plotting accidents per year\n",
    "plt.title('Accident per Accident Severity ')\n",
    "plt.xlabel('Year')\n",
    "plt.ylabel('Number of Accidents')\n",
    "plt.xticks(rotation=45, ha='right')\n",
    "plt.gcf().set_size_inches(13,8)\n",
    "plt.show()"
   ]
  },
  {
   "cell_type": "code",
   "execution_count": 55,
   "id": "e4b5cefd-75ce-4c39-babc-7b23656a90ac",
   "metadata": {},
   "outputs": [
    {
     "data": {
      "image/png": "[encoded data removed]",
      "text/plain": [
       "<Figure size 1300x800 with 1 Axes>"
      ]
     },
     "metadata": {},
     "output_type": "display_data"
    }
   ],
   "source": [
    "# Accidents considering severity'\n",
    "accident_per_year = accident.groupby(['Year','Accident_Severity']).size().unstack()\n",
    "\n",
    "accident_per_year.plot(kind='bar', stacked='True')\n",
    "# Plotting accidents per year\n",
    "plt.title('Accident per Year in Road Surface Condition')\n",
    "plt.xlabel('Year')\n",
    "plt.ylabel('Total of Accidents')\n",
    "plt.xticks(rotation=45, ha='right')\n",
    "plt.gcf().set_size_inches(13,8)\n",
    "plt.show()"
   ]
  },
  {
   "cell_type": "code",
   "execution_count": 56,
   "id": "59077990-4fad-400c-88a6-75343962b0bc",
   "metadata": {},
   "outputs": [
    {
     "data": {
      "image/png": "[encoded data removed]",
      "text/plain": [
       "<Figure size 1300x800 with 1 Axes>"
      ]
     },
     "metadata": {},
     "output_type": "display_data"
    }
   ],
   "source": [
    "# Plot line chart for accident trends over years\n",
    "accident_per_year.plot(kind='line', marker='o', figsize=(13, 8))\n",
    "\n",
    "# Adding title and labels\n",
    "plt.title('Trend of Accidents per Year Considering Severity')\n",
    "plt.xlabel('Year')\n",
    "plt.ylabel('Total Accidents')\n",
    "\n",
    "# Formatting x-axis\n",
    "plt.xticks(rotation=45, ha='right')\n",
    "\n",
    "# Adding legend and grid\n",
    "plt.legend(title='Accident Severity')\n",
    "plt.grid(True)\n",
    "\n",
    "# Show plot\n",
    "plt.show()\n"
   ]
  },
  {
   "cell_type": "code",
   "execution_count": 57,
   "id": "c964a2a9-3078-47b9-a869-0ceb8564a37e",
   "metadata": {},
   "outputs": [],
   "source": [
    "accident['Accident Date'] = pd.to_datetime(accident['Accident Date'], errors='coerce')\n",
    "accident['Year'] = accident['Accident Date'].dt.year"
   ]
  },
  {
   "cell_type": "code",
   "execution_count": 58,
   "id": "4bc7f6c2-1069-4bdc-8021-481b89595cfc",
   "metadata": {},
   "outputs": [
    {
     "data": {
      "image/png": "[encoded data removed]",
      "text/plain": [
       "<Figure size 1300x600 with 1 Axes>"
      ]
     },
     "metadata": {},
     "output_type": "display_data"
    }
   ],
   "source": [
    "# 1. Accidents by Road Surface Conditions Over the Years (Line Plot)\n",
    "road_surface_per_year = accident.groupby(['Year', 'Road_Surface_Conditions']).size().unstack()\n",
    "\n",
    "road_surface_per_year.plot(kind='line', marker='o', figsize=(13, 6))\n",
    "plt.title('Accidents per Year Considering Road Surface Conditions')\n",
    "plt.xlabel('Year')\n",
    "plt.ylabel('Total Accidents')\n",
    "plt.xticks(rotation=45, ha='right')\n",
    "plt.legend(title='Road Surface Conditions')\n",
    "plt.grid(True)\n",
    "plt.show()"
   ]
  },
  {
   "cell_type": "code",
   "execution_count": 61,
   "id": "55035f0a-8591-4d3f-b80f-3baa94ea5605",
   "metadata": {},
   "outputs": [
    {
     "data": {
      "image/png": "[encoded data removed]",
      "text/plain": [
       "<Figure size 1300x600 with 1 Axes>"
      ]
     },
     "metadata": {},
     "output_type": "display_data"
    }
   ],
   "source": [
    "# 2. Accidents by Urban vs Rural Areas Over the Years (Bar Plot)\n",
    "\n",
    "urban_rural_per_year = accident.groupby(['Year', 'Urban_or_Rural_Area']).size().unstack()\n",
    "\n",
    "urban_rural_per_year.plot(kind='bar', stacked=True, figsize=(13, 6))\n",
    "plt.title('Accidents per Year in Urban vs Rural Areas')\n",
    "plt.xlabel('Year')\n",
    "plt.ylabel('Total Accidents')\n",
    "plt.xticks(rotation=45, ha='right')\n",
    "plt.legend(title='Area Type')\n",
    "plt.show()"
   ]
  },
  {
   "cell_type": "code",
   "execution_count": 60,
   "id": "f2ab1705-cca0-4cd7-ac3f-e1de7d0e2c6d",
   "metadata": {},
   "outputs": [
    {
     "data": {
      "image/png": "[encoded data removed]",
      "text/plain": [
       "<Figure size 1300x600 with 1 Axes>"
      ]
     },
     "metadata": {},
     "output_type": "display_data"
    }
   ],
   "source": [
    "# 3. Accidents by Light Conditions Over the Years (Line Plot)\n",
    "light_conditions_per_year = accident.groupby(['Year', 'Light_Conditions']).size().unstack()\n",
    "\n",
    "light_conditions_per_year.plot(kind='line', marker='o', figsize=(13, 6))\n",
    "plt.title('Accidents per Year Considering Light Conditions')\n",
    "plt.xlabel('Year')\n",
    "plt.ylabel('Total Accidents')\n",
    "plt.xticks(rotation=45, ha='right')\n",
    "plt.legend(title='Light Conditions')\n",
    "plt.grid(True)\n",
    "plt.show()\n"
   ]
  },
  {
   "cell_type": "code",
   "execution_count": null,
   "id": "8e85d451-644f-4c23-8d62-05d083b0c9c2",
   "metadata": {},
   "outputs": [],
   "source": []
  }
 ],
 "metadata": {
  "kernelspec": {
   "display_name": "Python 3 (ipykernel)",
   "language": "python",
   "name": "python3"
  },
  "language_info": {
   "codemirror_mode": {
    "name": "ipython",
    "version": 3
   },
   "file_extension": ".py",
   "mimetype": "text/x-python",
   "name": "python",
   "nbconvert_exporter": "python",
   "pygments_lexer": "ipython3",
   "version": "3.13.2"
  }
 },
 "nbformat": 4,
 "nbformat_minor": 5
}
